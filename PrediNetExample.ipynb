{
  "nbformat": 4,
  "nbformat_minor": 0,
  "metadata": {
    "colab": {
      "name": "PrediNetExample.ipynb",
      "provenance": [],
      "collapsed_sections": []
    },
    "kernelspec": {
      "name": "python3",
      "display_name": "Python 3"
    },
    "language_info": {
      "name": "python"
    }
  },
  "cells": [
    {
      "cell_type": "code",
      "metadata": {
        "id": "vQatszsC3fhs",
        "colab": {
          "base_uri": "https://localhost:8080/"
        },
        "outputId": "d2bc80c3-1626-46d9-8d3c-89688ad34379"
      },
      "source": [
        "import torch\n",
        "import torch.nn as nn\n",
        "\n",
        "print(torch.version.cuda)\n",
        "print(torch.__version__)\n",
        "\n",
        "!pip install torch_geometric\n",
        "!pip install torch-scatter -f https://data.pyg.org/whl/torch-1.10.0+cu111.html\n",
        "!pip install torch-sparse -f https://data.pyg.org/whl/torch-1.10.0+cu111.html\n",
        "import torch_geometric\n",
        "\n",
        "print(\"done\")"
      ],
      "execution_count": 7,
      "outputs": [
        {
          "output_type": "stream",
          "name": "stdout",
          "text": [
            "11.1\n",
            "1.10.0+cu111\n",
            "Requirement already satisfied: torch_geometric in /usr/local/lib/python3.7/dist-packages (2.0.2)\n",
            "Requirement already satisfied: numpy in /usr/local/lib/python3.7/dist-packages (from torch_geometric) (1.19.5)\n",
            "Requirement already satisfied: rdflib in /usr/local/lib/python3.7/dist-packages (from torch_geometric) (6.0.2)\n",
            "Requirement already satisfied: scikit-learn in /usr/local/lib/python3.7/dist-packages (from torch_geometric) (1.0.1)\n",
            "Requirement already satisfied: pyparsing in /usr/local/lib/python3.7/dist-packages (from torch_geometric) (3.0.6)\n",
            "Requirement already satisfied: PyYAML in /usr/local/lib/python3.7/dist-packages (from torch_geometric) (3.13)\n",
            "Requirement already satisfied: networkx in /usr/local/lib/python3.7/dist-packages (from torch_geometric) (2.6.3)\n",
            "Requirement already satisfied: requests in /usr/local/lib/python3.7/dist-packages (from torch_geometric) (2.23.0)\n",
            "Requirement already satisfied: yacs in /usr/local/lib/python3.7/dist-packages (from torch_geometric) (0.1.8)\n",
            "Requirement already satisfied: pandas in /usr/local/lib/python3.7/dist-packages (from torch_geometric) (1.1.5)\n",
            "Requirement already satisfied: googledrivedownloader in /usr/local/lib/python3.7/dist-packages (from torch_geometric) (0.4)\n",
            "Requirement already satisfied: tqdm in /usr/local/lib/python3.7/dist-packages (from torch_geometric) (4.62.3)\n",
            "Requirement already satisfied: jinja2 in /usr/local/lib/python3.7/dist-packages (from torch_geometric) (2.11.3)\n",
            "Requirement already satisfied: scipy in /usr/local/lib/python3.7/dist-packages (from torch_geometric) (1.4.1)\n",
            "Requirement already satisfied: MarkupSafe>=0.23 in /usr/local/lib/python3.7/dist-packages (from jinja2->torch_geometric) (2.0.1)\n",
            "Requirement already satisfied: pytz>=2017.2 in /usr/local/lib/python3.7/dist-packages (from pandas->torch_geometric) (2018.9)\n",
            "Requirement already satisfied: python-dateutil>=2.7.3 in /usr/local/lib/python3.7/dist-packages (from pandas->torch_geometric) (2.8.2)\n",
            "Requirement already satisfied: six>=1.5 in /usr/local/lib/python3.7/dist-packages (from python-dateutil>=2.7.3->pandas->torch_geometric) (1.15.0)\n",
            "Requirement already satisfied: isodate in /usr/local/lib/python3.7/dist-packages (from rdflib->torch_geometric) (0.6.0)\n",
            "Requirement already satisfied: setuptools in /usr/local/lib/python3.7/dist-packages (from rdflib->torch_geometric) (57.4.0)\n",
            "Requirement already satisfied: certifi>=2017.4.17 in /usr/local/lib/python3.7/dist-packages (from requests->torch_geometric) (2021.10.8)\n",
            "Requirement already satisfied: urllib3!=1.25.0,!=1.25.1,<1.26,>=1.21.1 in /usr/local/lib/python3.7/dist-packages (from requests->torch_geometric) (1.24.3)\n",
            "Requirement already satisfied: idna<3,>=2.5 in /usr/local/lib/python3.7/dist-packages (from requests->torch_geometric) (2.10)\n",
            "Requirement already satisfied: chardet<4,>=3.0.2 in /usr/local/lib/python3.7/dist-packages (from requests->torch_geometric) (3.0.4)\n",
            "Requirement already satisfied: joblib>=0.11 in /usr/local/lib/python3.7/dist-packages (from scikit-learn->torch_geometric) (1.1.0)\n",
            "Requirement already satisfied: threadpoolctl>=2.0.0 in /usr/local/lib/python3.7/dist-packages (from scikit-learn->torch_geometric) (3.0.0)\n",
            "Looking in links: https://data.pyg.org/whl/torch-1.10.0+cu111.html\n",
            "Collecting torch-scatter\n",
            "  Downloading https://data.pyg.org/whl/torch-1.10.0%2Bcu113/torch_scatter-2.0.9-cp37-cp37m-linux_x86_64.whl (7.9 MB)\n",
            "\u001b[K     |████████████████████████████████| 7.9 MB 5.3 MB/s \n",
            "\u001b[?25hInstalling collected packages: torch-scatter\n",
            "Successfully installed torch-scatter-2.0.9\n",
            "Looking in links: https://data.pyg.org/whl/torch-1.10.0+cu111.html\n",
            "Collecting torch-sparse\n",
            "  Downloading https://data.pyg.org/whl/torch-1.10.0%2Bcu113/torch_sparse-0.6.12-cp37-cp37m-linux_x86_64.whl (3.5 MB)\n",
            "\u001b[K     |████████████████████████████████| 3.5 MB 5.0 MB/s \n",
            "\u001b[?25hRequirement already satisfied: scipy in /usr/local/lib/python3.7/dist-packages (from torch-sparse) (1.4.1)\n",
            "Requirement already satisfied: numpy>=1.13.3 in /usr/local/lib/python3.7/dist-packages (from scipy->torch-sparse) (1.19.5)\n",
            "Installing collected packages: torch-sparse\n",
            "Successfully installed torch-sparse-0.6.12\n",
            "done\n"
          ]
        }
      ]
    },
    {
      "cell_type": "code",
      "metadata": {
        "id": "hOcQWATQ31i4"
      },
      "source": [
        "class PrediNet(nn.Module):\n",
        "    def __init__(self,\n",
        "                 latent_dim,\n",
        "                 num_heads,\n",
        "                 key_size,\n",
        "                 relations,\n",
        "                 flatten_pooling=torch_geometric.nn.glob.global_max_pool):\n",
        "        super(PrediNet, self).__init__()\n",
        "        self.latent_dim = latent_dim\n",
        "        self.num_heads = num_heads\n",
        "        self.key_size = key_size\n",
        "        self.get_keys = nn.Linear(latent_dim, key_size, bias=False)\n",
        "        self.flatten_pooling = flatten_pooling\n",
        "\n",
        "        self.get_Q = nn.ModuleList()\n",
        "        for i in range(2):\n",
        "            self.get_Q.append(nn.Linear(latent_dim, num_heads * key_size, bias=False))\n",
        "\n",
        "        self.embed_entities = nn.Linear(latent_dim, relations, bias=False)\n",
        "        self.output = nn.Sequential(nn.Linear(num_heads * relations, latent_dim),\n",
        "                                    nn.LeakyReLU())\n",
        "\n",
        "    def forward(self, inp, batch_ids):\n",
        "        batch_size = len(torch.unique(batch_ids))\n",
        "        # inp shape is (batch_size*num_nodes, latent_dim)\n",
        "\n",
        "        assert not torch.isnan(inp).any()\n",
        "        inp_flatten = self.flatten_pooling(inp, batch_ids)\n",
        "        assert not torch.isnan(inp_flatten).any()\n",
        "        inp = inp.reshape(batch_size, -1, self.latent_dim)\n",
        "        assert not torch.isnan(inp).any()\n",
        "        inp_tiled = inp.unsqueeze(1).repeat(1, self.num_heads, 1, 1)\n",
        "        assert not torch.isnan(inp_tiled).any()\n",
        "\n",
        "        keys = self.get_keys(inp)\n",
        "        assert not torch.isnan(keys).any()\n",
        "        keys_T = keys.unsqueeze(1).repeat(1, self.num_heads, 1, 1).transpose(2, 3)\n",
        "        assert not torch.isnan(keys_T).any()\n",
        "        embeddings = []\n",
        "        for i in range(2):\n",
        "            q_i = self.get_Q[i](inp_flatten)\n",
        "            assert not torch.isnan(q_i).any()\n",
        "            q_i = q_i.reshape(batch_size, self.num_heads, self.key_size)\n",
        "            assert not torch.isnan(q_i).any()\n",
        "            q_i = q_i.unsqueeze(2)\n",
        "            assert not torch.isnan(q_i).any()\n",
        "            qkmul = torch.matmul(q_i, keys_T)\n",
        "            assert not torch.isnan(qkmul).any()\n",
        "            att_i = torch.softmax(qkmul, dim=-1)\n",
        "            if torch.isnan(att_i).any():\n",
        "                print(inp[0])\n",
        "                print()\n",
        "                print(q_i)\n",
        "                print()\n",
        "                print(keys_T)\n",
        "                print()\n",
        "                print(qkmul)\n",
        "            assert not torch.isnan(att_i).any()\n",
        "            feature_i = torch.squeeze(torch.matmul(att_i, inp_tiled), 2)\n",
        "            assert not torch.isnan(feature_i).any()\n",
        "            emb_i = self.embed_entities(feature_i)\n",
        "            assert not torch.isnan(emb_i).any()\n",
        "            embeddings.append(emb_i)\n",
        "\n",
        "        dx = embeddings[0] - embeddings[1]\n",
        "        assert not torch.isnan(dx).any()\n",
        "        dx = dx.reshape(batch_size, -1)\n",
        "        assert not torch.isnan(dx).any()\n",
        "        assert not torch.isnan(self.output(dx)).any()\n",
        "        return self.output(dx)"
      ],
      "execution_count": 8,
      "outputs": []
    },
    {
      "cell_type": "code",
      "metadata": {
        "colab": {
          "base_uri": "https://localhost:8080/"
        },
        "id": "pvV9QzHaIoA9",
        "outputId": "c9fb7c8e-5084-4453-c521-687d8c07d04e"
      },
      "source": [
        "pn = PrediNet(1, 5, 3, 4)\n",
        "inp = torch.tensor([[-1], [-2], [1], [2]]).float()\n",
        "batch_ids = torch.tensor([0, 0, 1, 1]).long()\n",
        "print(\"OUT\", pn(inp, batch_ids).shape)"
      ],
      "execution_count": 11,
      "outputs": [
        {
          "output_type": "stream",
          "name": "stdout",
          "text": [
            "OUT torch.Size([2, 1])\n"
          ]
        }
      ]
    }
  ]
}